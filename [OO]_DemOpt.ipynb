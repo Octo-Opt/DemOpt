{
  "cells": [
    {
      "cell_type": "markdown",
      "metadata": {
        "id": "EpGWUswStQEZ"
      },
      "source": [
        "# Environment setup"
      ]
    },
    {
      "cell_type": "code",
      "execution_count": null,
      "metadata": {
        "id": "HJ57vxf5ih2v"
      },
      "outputs": [],
      "source": []
    },
    {
      "cell_type": "markdown",
      "metadata": {
        "id": "XGf07gk3tV7b"
      },
      "source": [
        "# Import neccessary libraries"
      ]
    },
    {
      "cell_type": "code",
      "execution_count": 1,
      "metadata": {
        "id": "BtqOIHeHtQbY"
      },
      "outputs": [],
      "source": [
        "import matplotlib.pyplot as plt\n",
        "import numpy as np\n",
        "\n",
        "import torch\n",
        "import torch.nn as nn\n",
        "import torch.nn.functional as F\n",
        "\n",
        "import torchvision\n",
        "import torchvision.transforms as transforms\n",
        "\n",
        "from tqdm import tqdm"
      ]
    },
    {
      "cell_type": "code",
      "execution_count": 2,
      "metadata": {
        "id": "P19frAWx3-tS"
      },
      "outputs": [],
      "source": [
        "device = torch.device('cuda' if torch.cuda.is_available() else 'cpu')"
      ]
    },
    {
      "cell_type": "markdown",
      "metadata": {
        "id": "4B0V3PgStZih"
      },
      "source": [
        "# Utils"
      ]
    },
    {
      "cell_type": "code",
      "execution_count": 3,
      "metadata": {
        "id": "mIvth5iatQeJ"
      },
      "outputs": [],
      "source": [
        "# functions to show an image\n",
        "def imshow(img):\n",
        "    img = img / 2 + 0.5     # unnormalize\n",
        "    npimg = img.numpy()\n",
        "    plt.imshow(np.transpose(npimg, (1, 2, 0)))\n",
        "    plt.show()"
      ]
    },
    {
      "cell_type": "code",
      "execution_count": null,
      "metadata": {
        "id": "MI2kbhmjtQg3"
      },
      "outputs": [],
      "source": [
        "def plot_loss(loss, title=None, ymin=0, ymax=None, figsize=(15,5)):\n",
        "    \"\"\"Plots the loss from a single experiment.\"\"\"\n",
        "\n",
        "    fig, ax = plt.subplots(figsize=figsize)\n",
        "    ax.plot(loss)\n",
        "    ax.set_title(title)\n",
        "    ax.set_ylabel('Loss')\n",
        "    ax.set_xlabel('Update Steps')\n",
        "    ax.set_ylim(ymin=ymin, ymax=ymax)\n",
        "    ax.grid()"
      ]
    },
    {
      "cell_type": "code",
      "execution_count": null,
      "metadata": {
        "id": "k3smVPV1nwZw"
      },
      "outputs": [],
      "source": [
        "def plot_losses(losses, labels, title=None, ymin=0, ymax=None, figsize=(15,5)):\n",
        "    \"\"\"Plots the losses from multiple experiments.\"\"\"\n",
        "\n",
        "    fig, ax = plt.subplots(figsize=figsize)\n",
        "    for loss, label in zip(losses, labels):\n",
        "        ax.plot(loss, label=label)\n",
        "    ax.set_title(title)\n",
        "    ax.set_ylabel('Loss')\n",
        "    ax.set_xlabel('Update Steps')\n",
        "    ax.set_ylim(ymin=ymin, ymax=ymax)\n",
        "    ax.grid()\n",
        "    ax.legend(loc='upper right')"
      ]
    },
    {
      "cell_type": "markdown",
      "metadata": {
        "id": "n6LFeyuktbiF"
      },
      "source": [
        "# Data processing"
      ]
    },
    {
      "cell_type": "code",
      "execution_count": 4,
      "metadata": {
        "colab": {
          "base_uri": "https://localhost:8080/"
        },
        "id": "BfeX2p8_tQjw",
        "outputId": "e4e020e9-1c42-4428-84bd-e76657348e4b"
      },
      "outputs": [
        {
          "name": "stdout",
          "output_type": "stream",
          "text": [
            "Downloading https://www.cs.toronto.edu/~kriz/cifar-10-python.tar.gz to /content/data/cifar-10-python.tar.gz\n"
          ]
        },
        {
          "name": "stderr",
          "output_type": "stream",
          "text": [
            "100%|██████████| 170498071/170498071 [00:05<00:00, 31492052.51it/s]\n"
          ]
        },
        {
          "name": "stdout",
          "output_type": "stream",
          "text": [
            "Extracting /content/data/cifar-10-python.tar.gz to /content/data\n",
            "Files already downloaded and verified\n"
          ]
        }
      ],
      "source": [
        "transform = transforms.Compose(\n",
        "    [transforms.ToTensor(),\n",
        "    transforms.RandomRotation(5),\n",
        "    transforms.Normalize((0.5, 0.5, 0.5), (0.5, 0.5, 0.5))]\n",
        "    )\n",
        "\n",
        "batch_size = 4\n",
        "\n",
        "trainset = torchvision.datasets.CIFAR10(root=r'D:\\Lab\\Organization\\OctoOpt\\DemOpt\\dataset', train=True,\n",
        "                                        download=True, transform=transform)\n",
        "trainloader = torch.utils.data.DataLoader(trainset, batch_size=batch_size,\n",
        "                                          shuffle=True, num_workers=2)\n",
        "\n",
        "testset = torchvision.datasets.CIFAR10(root=r'D:\\Lab\\Organization\\OctoOpt\\DemOpt\\dataset', train=False,\n",
        "                                       download=True, transform=transform)\n",
        "\n",
        "testloader = torch.utils.data.DataLoader(testset, batch_size=batch_size,\n",
        "                                         shuffle=False, num_workers=2)\n",
        "\n",
        "classes = ('plane', 'car', 'bird', 'cat',\n",
        "           'deer', 'dog', 'frog', 'horse', 'ship', 'truck')"
      ]
    },
    {
      "cell_type": "code",
      "execution_count": 5,
      "metadata": {
        "colab": {
          "base_uri": "https://localhost:8080/",
          "height": 210
        },
        "id": "w1b6nG6TtQmY",
        "outputId": "1e524008-23e2-4dc0-e836-fe024628a07d"
      },
      "outputs": [
        {
          "data": {
            "image/png": "[encoded data removed]",
            "text/plain": [
              "<Figure size 640x480 with 1 Axes>"
            ]
          },
          "metadata": {},
          "output_type": "display_data"
        },
        {
          "name": "stdout",
          "output_type": "stream",
          "text": [
            "truck horse horse horse\n"
          ]
        }
      ],
      "source": [
        "# get some random training images\n",
        "dataiter = iter(trainloader)\n",
        "images, labels = next(dataiter)\n",
        "\n",
        "# show images\n",
        "imshow(torchvision.utils.make_grid(images))\n",
        "# print labels\n",
        "print(' '.join(f'{classes[labels[j]]:5s}' for j in range(batch_size)))"
      ]
    },
    {
      "cell_type": "code",
      "execution_count": null,
      "metadata": {
        "id": "UD6GaFvRBzhG"
      },
      "outputs": [],
      "source": []
    },
    {
      "cell_type": "markdown",
      "metadata": {
        "id": "CxmLQrHytd-m"
      },
      "source": [
        "# Model architecture"
      ]
    },
    {
      "cell_type": "code",
      "execution_count": 6,
      "metadata": {
        "id": "dQsvQqZ-tQpH"
      },
      "outputs": [],
      "source": [
        "class Classifier(nn.Module):\n",
        "    def __init__(self):\n",
        "        super().__init__()\n",
        "        self.conv1 = nn.Conv2d(3, 6, 5)\n",
        "        self.pool = nn.MaxPool2d(2, 2)\n",
        "        self.conv2 = nn.Conv2d(6, 16, 5)\n",
        "        self.fc1 = nn.Linear(16 * 5 * 5, 120)\n",
        "        self.fc2 = nn.Linear(120, 84)\n",
        "        self.fc3 = nn.Linear(84, 10)\n",
        "\n",
        "    def forward(self, x):\n",
        "        x = self.pool(F.relu(self.conv1(x)))\n",
        "        x = self.pool(F.relu(self.conv2(x)))\n",
        "        x = torch.flatten(x, 1) # flatten all dimensions except batch\n",
        "        x = F.relu(self.fc1(x))\n",
        "        x = F.relu(self.fc2(x))\n",
        "        x = self.fc3(x)\n",
        "        return x"
      ]
    },
    {
      "cell_type": "code",
      "execution_count": 7,
      "metadata": {
        "colab": {
          "base_uri": "https://localhost:8080/"
        },
        "id": "MQE32MsqtQsm",
        "outputId": "b9ca9948-95b5-4df2-88ea-98666fc7c4ef"
      },
      "outputs": [
        {
          "data": {
            "text/plain": [
              "Classifier(\n",
              "  (conv1): Conv2d(3, 6, kernel_size=(5, 5), stride=(1, 1))\n",
              "  (pool): MaxPool2d(kernel_size=2, stride=2, padding=0, dilation=1, ceil_mode=False)\n",
              "  (conv2): Conv2d(6, 16, kernel_size=(5, 5), stride=(1, 1))\n",
              "  (fc1): Linear(in_features=400, out_features=120, bias=True)\n",
              "  (fc2): Linear(in_features=120, out_features=84, bias=True)\n",
              "  (fc3): Linear(in_features=84, out_features=10, bias=True)\n",
              ")"
            ]
          },
          "execution_count": 7,
          "metadata": {},
          "output_type": "execute_result"
        }
      ],
      "source": [
        "net = Classifier()\n",
        "net"
      ]
    },
    {
      "cell_type": "markdown",
      "metadata": {
        "id": "x506HiO4thgt"
      },
      "source": [
        "# Experiemnts\n",
        "\n",
        "1. 'SGD',\n",
        "2. 'Adam',\n",
        "3. 'RMSprop',\n",
        "4. 'Adadelta',\n",
        "5. 'Adagrad'"
      ]
    },
    {
      "cell_type": "markdown",
      "metadata": {
        "id": "2u6TV0Vm-hjK"
      },
      "source": [
        "## Optimizers"
      ]
    },
    {
      "cell_type": "code",
      "execution_count": 8,
      "metadata": {
        "id": "b_l5Nj9g-jZ-"
      },
      "outputs": [],
      "source": [
        "class SGD:\n",
        "    def __init__(self, model_params, lr=1e-3):\n",
        "        self.model_params = list(model_params)\n",
        "        self.lr = lr\n",
        "\n",
        "    def zero_grad(self):\n",
        "        for param in self.model_params:\n",
        "            param.grad = None\n",
        "\n",
        "    @torch.no_grad()\n",
        "    def step(self):\n",
        "        for param in self.model_params:\n",
        "            param.sub_(self.lr * param.grad)"
      ]
    },
    {
      "cell_type": "code",
      "execution_count": null,
      "metadata": {
        "id": "qZTjV7KW-jco"
      },
      "outputs": [],
      "source": [
        "class SGDMomentum:\n",
        "    def __init__(self, model_params, lr=1e-3, momentum=0.9):\n",
        "        self.model_params = list(model_params)\n",
        "        self.lr = lr\n",
        "        self.momentum = momentum\n",
        "        self.v = [torch.zeros_like(p) for p in self.model_params]\n",
        "\n",
        "    def zero_grad(self):\n",
        "        for param in self.model_params:\n",
        "            param.grad = None\n",
        "\n",
        "    @torch.no_grad()\n",
        "    def step(self):\n",
        "        for param, v in zip(self.model_params, self.v):\n",
        "            v.mul_(self.momentum).add_(param.grad)\n",
        "            param.sub_(self.lr * v)"
      ]
    },
    {
      "cell_type": "code",
      "execution_count": null,
      "metadata": {
        "id": "XtHQOtPXlki4"
      },
      "outputs": [],
      "source": [
        "class Adagrad:\n",
        "    def __init__(self, model_params, lr=1e-2, init_acc_sqr_grad=0, eps=1e-10):\n",
        "        self.model_params = list(model_params)\n",
        "        self.lr = lr\n",
        "        self.acc_sqr_grads = [torch.full_like(p, init_acc_sqr_grad) for p in self.model_params]\n",
        "        self.eps = eps\n",
        "\n",
        "    def zero_grad(self):\n",
        "        for param in self.model_params:\n",
        "            param.grad = None\n",
        "\n",
        "    @torch.no_grad()\n",
        "    def step(self):\n",
        "        for param, acc_sqr_grad in zip(self.model_params, self.acc_sqr_grads):\n",
        "            acc_sqr_grad.add_(param.grad * param.grad)\n",
        "            std = acc_sqr_grad.sqrt().add(self.eps)\n",
        "            param.sub_((self.lr / std) * param.grad)"
      ]
    },
    {
      "cell_type": "code",
      "execution_count": null,
      "metadata": {
        "id": "E-BaOGuHlklv"
      },
      "outputs": [],
      "source": [
        "class Adadelta:\n",
        "    def __init__(self, model_params, lr=1.0, rho=0.9, eps=1e-6):\n",
        "        self.model_params = list(model_params)\n",
        "        self.lr = lr\n",
        "        self.rho = rho\n",
        "        self.eps = eps\n",
        "        self.avg_sqr_grads = [torch.zeros_like(p) for p in self.model_params]\n",
        "        self.avg_sqr_deltas = [torch.zeros_like(p) for p in self.model_params]\n",
        "\n",
        "    def zero_grad(self):\n",
        "        for param in self.model_params:\n",
        "            param.grad = None\n",
        "\n",
        "    @torch.no_grad()\n",
        "    def step(self):\n",
        "        for param, avg_sqr_grad, avg_sqr_delta in zip(self.model_params, \\\n",
        "                                                      self.avg_sqr_grads, \\\n",
        "                                                      self.avg_sqr_deltas):\n",
        "            avg_sqr_grad.mul_(self.rho).add_(param.grad * param.grad * (1 - self.rho))\n",
        "            std = avg_sqr_grad.add(self.eps).sqrt()\n",
        "            delta = avg_sqr_delta.add(self.eps).sqrt().div(std).mul(param.grad)\n",
        "            param.sub_(self.lr * delta)\n",
        "            avg_sqr_delta.mul_(self.rho).add_(delta * delta * (1 - self.rho))"
      ]
    },
    {
      "cell_type": "code",
      "execution_count": null,
      "metadata": {
        "id": "jsrTUmkclsZ7"
      },
      "outputs": [],
      "source": [
        "class RMSprop:\n",
        "    def __init__(self, model_params, lr=1e-2, alpha=0.99, eps=1e-8):\n",
        "        self.model_params = list(model_params)\n",
        "        self.lr = lr\n",
        "        self.alpha = alpha\n",
        "        self.eps = eps\n",
        "        self.avg_sqr_grads = [torch.zeros_like(p) for p in self.model_params]\n",
        "\n",
        "    def zero_grad(self):\n",
        "        for param in self.model_params:\n",
        "            param.grad = None\n",
        "\n",
        "    @torch.no_grad()\n",
        "    def step(self):\n",
        "        for param, avg_sqr_grad in zip(self.model_params, self.avg_sqr_grads):\n",
        "            avg_sqr_grad.mul_(self.alpha).add_(param.grad * param.grad * (1 - self.alpha))\n",
        "            std = avg_sqr_grad.sqrt().add(self.eps)\n",
        "            param.sub_((self.lr / std) * param.grad)"
      ]
    },
    {
      "cell_type": "code",
      "execution_count": null,
      "metadata": {
        "id": "J28dM6aflvTF"
      },
      "outputs": [],
      "source": [
        "class RMSpropAlt:\n",
        "    def __init__(self, model_params, lr=1e-2, alpha=0.99, eps=1e-8):\n",
        "        self.model_params = list(model_params)\n",
        "        self.lr = lr\n",
        "        self.alpha = alpha\n",
        "        self.eps = eps\n",
        "        self.avg_sqr_grads = [torch.ones_like(p) for p in self.model_params]\n",
        "\n",
        "    def zero_grad(self):\n",
        "        for param in self.model_params:\n",
        "            param.grad = None\n",
        "\n",
        "    @torch.no_grad()\n",
        "    def step(self):\n",
        "        for param, avg_sqr_grad in zip(self.model_params, self.avg_sqr_grads):\n",
        "            avg_sqr_grad.mul_(self.alpha).add_(param.grad * param.grad * (1 - self.alpha))\n",
        "            std = avg_sqr_grad.add(self.eps).sqrt()\n",
        "            param.sub_((self.lr / std) * param.grad)"
      ]
    },
    {
      "cell_type": "code",
      "execution_count": null,
      "metadata": {
        "id": "SzVzdwjplzqx"
      },
      "outputs": [],
      "source": [
        "class Adam:\n",
        "    def __init__(self, model_params, lr=1e-3, betas=(0.9, 0.999), eps=1e-8):\n",
        "        self.model_params = list(model_params)\n",
        "        self.lr = lr\n",
        "        self.beta_1, self.beta_2 = betas\n",
        "        self.eps = eps\n",
        "        self.avg_grads = [torch.zeros_like(p) for p in self.model_params]\n",
        "        self.avg_sqr_grads = [torch.zeros_like(p) for p in self.model_params]\n",
        "        self.n_steps = 0\n",
        "\n",
        "    def zero_grad(self):\n",
        "        for param in self.model_params:\n",
        "            param.grad = None\n",
        "\n",
        "    @torch.no_grad()\n",
        "    def step(self):\n",
        "        for param, avg_grad, avg_sqr_grad in zip(self.model_params, \\\n",
        "                                                 self.avg_grads, \\\n",
        "                                                 self.avg_sqr_grads):\n",
        "            self.n_steps += 1\n",
        "            avg_grad.mul_(self.beta_1).add_(param.grad * (1 - self.beta_1))\n",
        "            avg_sqr_grad.mul_(self.beta_2).add_(param.grad * param.grad * (1 - self.beta_2))\n",
        "            avg_grad_corrected = avg_grad.div(1 - self.beta_1 ** self.n_steps)\n",
        "            avg_sqr_grad_corrected = avg_sqr_grad.div(1 - self.beta_2 ** self.n_steps)\n",
        "            std = avg_sqr_grad_corrected.sqrt().add(self.eps)\n",
        "            param.sub_(self.lr * avg_grad_corrected / std)"
      ]
    },
    {
      "cell_type": "markdown",
      "metadata": {
        "id": "BNezZIN3-jlQ"
      },
      "source": [
        "## Training and Validating\n",
        "+ Record all losses and time from each epoch that the model trained."
      ]
    },
    {
      "cell_type": "code",
      "execution_count": 9,
      "metadata": {
        "id": "DsF0AMtAtguG"
      },
      "outputs": [],
      "source": [
        "net = Classifier()\n",
        "loss_fn = nn.CrossEntropyLoss()\n",
        "optimizer = SGD(net.parameters(), lr=0.001)"
      ]
    },
    {
      "cell_type": "code",
      "execution_count": 12,
      "metadata": {
        "id": "2GgEgnKgCgUp"
      },
      "outputs": [],
      "source": [
        "class Trainer:\n",
        "  def __init__(self, model, loss_fn, optimizer):\n",
        "    self.model = model\n",
        "    self.loss_fn = loss_fn\n",
        "    self.optimizer = optimizer\n",
        "    self.log = {\n",
        "        'train_losses': [],\n",
        "        'val_losses': [],\n",
        "        'timer': []\n",
        "    }\n",
        "\n",
        "  def _train_per_epoch(self, epoch_index, training_dataloader):\n",
        "    self.model.train()\n",
        "    running_loss = 0.\n",
        "    last_loss = 0.\n",
        "\n",
        "    for i, data in tqdm(enumerate(training_dataloader),\n",
        "                        desc=f'Training at epoch {epoch_index}'):\n",
        "      inputs, labels = data\n",
        "      inputs, labels = inputs.to(device), labels.to(device)\n",
        "      self.optimizer.zero_grad()                # Compute the loss and its gradients\n",
        "      outputs = self.model(inputs)\n",
        "      loss = self.loss_fn(outputs, labels)\n",
        "      loss.backward()                           # Compute the loss and its gradients\n",
        "      self.optimizer.step()                     # Adjust learning weights\n",
        "\n",
        "      running_loss += loss.item()\n",
        "      if i % 1000 == 999:\n",
        "        last_loss = running_loss / 1000.0\n",
        "        print(f'Batch {epoch_index+1} loss {last_loss}')\n",
        "        self.log['train_losses'].append(last_loss)\n",
        "        running_loss = 0.\n",
        "\n",
        "    return last_loss\n",
        "\n",
        "  def _eval_per_epoch(self, epoch_index, val_dataloader):\n",
        "    self.model.eval()\n",
        "    running_vloss = 0.\n",
        "    with torch.no_grad():\n",
        "      for i, data in tqdm(enumerate(val_dataloader),\n",
        "                          desc=f'Validating at epoch {epoch_index}'):\n",
        "        inputs, labels = data\n",
        "        inputs, labels = inputs.to(device), labels.to(device)\n",
        "        outputs = self.model(inputs)\n",
        "        loss = self.loss_fn(outputs, labels)\n",
        "        running_vloss += loss\n",
        "\n",
        "        self.log['val_losses'].append(running_vloss)\n",
        "    avg_vloss = running_vloss / (i + 1)\n",
        "    return  avg_vloss\n",
        "\n",
        "  def fit(self, epochs, training_dataloader, val_dataloader):\n",
        "    if val_dataloader == None:\n",
        "      print('No validation during experiment')\n",
        "\n",
        "    for epoch in range(epochs):\n",
        "      avg_loss = self._train_per_epoch(epoch, training_dataloader)\n",
        "\n",
        "      if val_dataloader:\n",
        "        avg_vloss = self._eval_per_epoch(epoch, val_dataloader)\n",
        "        print('LOSS train {} valid {}'.format(avg_loss, avg_vloss))"
      ]
    },
    {
      "cell_type": "code",
      "execution_count": null,
      "metadata": {
        "id": "T7cvNSxt3Hlu"
      },
      "outputs": [],
      "source": [
        "net = Classifier().to(device)\n",
        "loss_fn = nn.CrossEntropyLoss().to(device)\n",
        "optimizer = SGD(net.parameters(), lr=0.001)\n",
        "\n",
        "trainer_sgd = Trainer(net, loss_fn, optimizer)\n",
        "trainer_sgd.fit(epochs=100,\n",
        "                training_dataloader=trainloader,\n",
        "                val_dataloader=testloader)"
      ]
    },
    {
      "cell_type": "code",
      "execution_count": null,
      "metadata": {
        "id": "0aeyvlDdtgwk"
      },
      "outputs": [],
      "source": []
    },
    {
      "cell_type": "code",
      "execution_count": null,
      "metadata": {
        "id": "vW11s8vaB9cf"
      },
      "outputs": [],
      "source": []
    },
    {
      "cell_type": "markdown",
      "metadata": {
        "id": "kRpkdV7htlXh"
      },
      "source": [
        "# Inference"
      ]
    },
    {
      "cell_type": "code",
      "execution_count": null,
      "metadata": {
        "id": "6SYCPP_2tg0F"
      },
      "outputs": [],
      "source": [
        "dataiter = iter(testloader)\n",
        "images, labels = next(dataiter)\n",
        "\n",
        "# print images\n",
        "imshow(torchvision.utils.make_grid(images))\n",
        "print('GroundTruth: ', ' '.join(f'{classes[labels[j]]:5s}' for j in range(4)))"
      ]
    },
    {
      "cell_type": "code",
      "execution_count": null,
      "metadata": {
        "id": "gwt83lASCAeT"
      },
      "outputs": [],
      "source": [
        "net = Classifier()\n",
        "net.load_state_dict(torch.load(PATH))"
      ]
    },
    {
      "cell_type": "code",
      "execution_count": null,
      "metadata": {
        "id": "mvutUzFgCAga"
      },
      "outputs": [],
      "source": [
        "outputs = net(images)\n",
        "_, predicted = torch.max(outputs, 1)\n",
        "\n",
        "print('Predicted: ', ' '.join(f'{classes[predicted[j]]:5s}'\n",
        "                              for j in range(4)))"
      ]
    },
    {
      "cell_type": "code",
      "execution_count": null,
      "metadata": {
        "id": "IXXS0sJwCAiw"
      },
      "outputs": [],
      "source": [
        "# prepare to count predictions for each class\n",
        "correct_pred = {classname: 0 for classname in classes}\n",
        "total_pred = {classname: 0 for classname in classes}\n",
        "\n",
        "# again no gradients needed\n",
        "with torch.no_grad():\n",
        "    for data in testloader:\n",
        "        images, labels = data\n",
        "        outputs = net(images)\n",
        "        _, predictions = torch.max(outputs, 1)\n",
        "        # collect the correct predictions for each class\n",
        "        for label, prediction in zip(labels, predictions):\n",
        "            if label == prediction:\n",
        "                correct_pred[classes[label]] += 1\n",
        "            total_pred[classes[label]] += 1\n",
        "\n",
        "\n",
        "# print accuracy for each class\n",
        "for classname, correct_count in correct_pred.items():\n",
        "    accuracy = 100 * float(correct_count) / total_pred[classname]\n",
        "    print(f'Accuracy for class: {classname:5s} is {accuracy:.1f} %')"
      ]
    },
    {
      "cell_type": "code",
      "execution_count": null,
      "metadata": {
        "id": "xzQNdN93CAln"
      },
      "outputs": [],
      "source": []
    }
  ],
  "metadata": {
    "accelerator": "GPU",
    "colab": {
      "gpuType": "T4",
      "provenance": [],
      "toc_visible": true
    },
    "kernelspec": {
      "display_name": "Python 3",
      "name": "python3"
    },
    "language_info": {
      "name": "python",
      "version": "3.11.5"
    }
  },
  "nbformat": 4,
  "nbformat_minor": 0
}
